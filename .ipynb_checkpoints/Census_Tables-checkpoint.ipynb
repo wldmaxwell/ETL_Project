{
 "cells": [
  {
   "cell_type": "code",
   "execution_count": 1,
   "metadata": {},
   "outputs": [],
   "source": [
    "from bs4 import BeautifulSoup as bs\n",
    "import requests\n",
    "from splinter import Browser\n",
    "import pandas as pd"
   ]
  },
  {
   "cell_type": "code",
   "execution_count": 13,
   "metadata": {},
   "outputs": [],
   "source": [
    "executable_path = {'executable_path': 'chromedriver.exe'}\n",
    "browser = Browser('chrome', **executable_path, headless=False)"
   ]
  },
  {
   "cell_type": "code",
   "execution_count": 14,
   "metadata": {},
   "outputs": [],
   "source": [
    "census_url = 'https://factfinder.census.gov/bkmk/table/1.0/en/ACS/17_5YR/DP05/8600000US23173'\n",
    "browser.visit(census_url)"
   ]
  },
  {
   "cell_type": "code",
   "execution_count": 10,
   "metadata": {},
   "outputs": [],
   "source": [
    "Richmond_zipcodes = ['23173', '23219', '23220', '23221', '23222', '23223', \\\n",
    "                     '23224', '23225', '23226', '23227', '23230', '23231', '23234', '23235']"
   ]
  },
  {
   "cell_type": "code",
   "execution_count": 11,
   "metadata": {},
   "outputs": [
    {
     "name": "stdout",
     "output_type": "stream",
     "text": [
      "https://factfinder.census.gov/bkmk/table/1.0/en/ACS/17_5YR/DP05/8600000US23173\n",
      "https://factfinder.census.gov/bkmk/table/1.0/en/ACS/17_5YR/DP05/8600000US23219\n",
      "https://factfinder.census.gov/bkmk/table/1.0/en/ACS/17_5YR/DP05/8600000US23220\n",
      "https://factfinder.census.gov/bkmk/table/1.0/en/ACS/17_5YR/DP05/8600000US23221\n",
      "https://factfinder.census.gov/bkmk/table/1.0/en/ACS/17_5YR/DP05/8600000US23222\n",
      "https://factfinder.census.gov/bkmk/table/1.0/en/ACS/17_5YR/DP05/8600000US23223\n",
      "https://factfinder.census.gov/bkmk/table/1.0/en/ACS/17_5YR/DP05/8600000US23224\n",
      "https://factfinder.census.gov/bkmk/table/1.0/en/ACS/17_5YR/DP05/8600000US23225\n",
      "https://factfinder.census.gov/bkmk/table/1.0/en/ACS/17_5YR/DP05/8600000US23226\n",
      "https://factfinder.census.gov/bkmk/table/1.0/en/ACS/17_5YR/DP05/8600000US23227\n",
      "https://factfinder.census.gov/bkmk/table/1.0/en/ACS/17_5YR/DP05/8600000US23230\n",
      "https://factfinder.census.gov/bkmk/table/1.0/en/ACS/17_5YR/DP05/8600000US23231\n",
      "https://factfinder.census.gov/bkmk/table/1.0/en/ACS/17_5YR/DP05/8600000US23234\n",
      "https://factfinder.census.gov/bkmk/table/1.0/en/ACS/17_5YR/DP05/8600000US23235\n"
     ]
    }
   ],
   "source": [
    "first_part_url = 'https://factfinder.census.gov/bkmk/table/1.0/en/ACS/17_5YR/DP05/8600000US'\n",
    "for zipcode in Richmond_zipcodes:\n",
    "    second_part_url = zipcode\n",
    "    full_url = first_part_url + second_part_url\n",
    "    print(full_url)"
   ]
  },
  {
   "cell_type": "code",
   "execution_count": null,
   "metadata": {},
   "outputs": [],
   "source": [
    "apartments_url = 'https://www.apartments.com/richmond-va/'\n",
    "browser.visit(apartments_url)"
   ]
  },
  {
   "cell_type": "code",
   "execution_count": null,
   "metadata": {},
   "outputs": [],
   "source": []
  }
 ],
 "metadata": {
  "kernelspec": {
   "display_name": "Python 3",
   "language": "python",
   "name": "python3"
  },
  "language_info": {
   "codemirror_mode": {
    "name": "ipython",
    "version": 3
   },
   "file_extension": ".py",
   "mimetype": "text/x-python",
   "name": "python",
   "nbconvert_exporter": "python",
   "pygments_lexer": "ipython3",
   "version": "3.7.3"
  }
 },
 "nbformat": 4,
 "nbformat_minor": 2
}
